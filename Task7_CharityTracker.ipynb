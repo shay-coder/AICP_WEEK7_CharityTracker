{
  "nbformat": 4,
  "nbformat_minor": 0,
  "metadata": {
    "colab": {
      "provenance": []
    },
    "kernelspec": {
      "name": "python3",
      "display_name": "Python 3"
    },
    "language_info": {
      "name": "python"
    }
  },
  "cells": [
    {
      "cell_type": "markdown",
      "source": [
        "# The manager of a supermarket needs a program to record donations to charity. Each customer has the choice of three charities to donate to, and 1% of their shopping bill will be donated to the chosen charity."
      ],
      "metadata": {
        "id": "yO_SHuP1qkMC"
      }
    },
    {
      "cell_type": "markdown",
      "source": [
        "# **Set up a donation system, Record and Total each donation**"
      ],
      "metadata": {
        "id": "F25HqXnHqnOQ"
      }
    },
    {
      "cell_type": "code",
      "source": [
        "# Task 1 - Set up the donation system\n",
        "\n",
        "# Input charity names\n",
        "charity_names = []\n",
        "for i in range(3):\n",
        "    charity_name = input(f\"Enter the name of Charity {i+1}: \")\n",
        "    charity_names.append(charity_name)\n",
        "\n",
        "# Display charity names with numbers\n",
        "for i, charity in enumerate(charity_names, start=1):\n",
        "    print(f\"{i}. {charity}\")\n",
        "\n",
        "# Input charity choice (1, 2, or 3)\n",
        "charity_choice = int(input(\"Choose a charity (1, 2, or 3): \"))\n",
        "if charity_choice not in [1, 2, 3]:\n",
        "    print(\"Invalid choice. Exiting.\")\n",
        "    exit()\n",
        "\n",
        "# Input shopping bill value\n",
        "shopping_bill = float(input(\"Enter the shopping bill amount: \"))\n",
        "\n",
        "# Calculate donation\n",
        "donation = shopping_bill * 0.01\n",
        "\n",
        "# Initialize totals for each charity\n",
        "charity_totals = [0, 0, 0]\n",
        "\n",
        "# Task 2 - Record and total each donation\n",
        "\n",
        "# Add donation to the appropriate total\n",
        "charity_totals[charity_choice - 1] += donation\n",
        "\n",
        "# Output the name of the charity and the amount donated\n",
        "chosen_charity = charity_names[charity_choice - 1]\n",
        "print(f\"Donation to {chosen_charity}: ${donation:.2f}\")\n",
        "\n",
        "# Display total donations for each charity\n",
        "for i, total in enumerate(charity_totals, start=1):\n",
        "    print(f\"Total donation for Charity {i}: ${total:.2f}\")\n"
      ],
      "metadata": {
        "colab": {
          "base_uri": "https://localhost:8080/"
        },
        "id": "-erCWDPyumSs",
        "outputId": "5ffa072f-859c-40af-e9b9-bd2c34230dfb"
      },
      "execution_count": null,
      "outputs": [
        {
          "output_type": "stream",
          "name": "stdout",
          "text": [
            "Enter the name of Charity 1: A\n",
            "Enter the name of Charity 2: B\n",
            "Enter the name of Charity 3: C\n",
            "1. A\n",
            "2. B\n",
            "3. C\n",
            "Choose a charity (1, 2, or 3): 3\n",
            "Enter the shopping bill amount: 999\n",
            "Donation to C: $9.99\n",
            "Total donation for Charity 1: $0.00\n",
            "Total donation for Charity 2: $0.00\n",
            "Total donation for Charity 3: $9.99\n"
          ]
        }
      ]
    },
    {
      "cell_type": "markdown",
      "source": [
        "# **Grand Total Donated to Charity**"
      ],
      "metadata": {
        "id": "eyu9GMZExVXw"
      }
    },
    {
      "cell_type": "code",
      "source": [
        "# Initialize charity names and donation totals\n",
        "charities = [\"Charity 1\", \"Charity 2\", \"Charity 3\"]\n",
        "charity_totals = [0, 0, 0]\n",
        "\n",
        "# Task 1: Set up the donation system\n",
        "print(\"Welcome to the Charity Donation System!\")\n",
        "print(\"Available Charities:\")\n",
        "for i, charity in enumerate(charities, start=1):\n",
        "    print(f\"{i}. {charity}\")\n",
        "\n",
        "# Get charity choice\n",
        "while True:\n",
        "    try:\n",
        "        choice = int(input(\"Choose a charity (1, 2, or 3): \"))\n",
        "        if 1 <= choice <= 3:\n",
        "            break\n",
        "        else:\n",
        "            print(\"Invalid choice. Please enter 1, 2, or 3.\")\n",
        "    except ValueError:\n",
        "        print(\"Invalid input. Please enter a number.\")\n",
        "\n",
        "# Get shopping bill amount\n",
        "bill_amount = float(input(\"Enter the shopping bill amount: \"))\n",
        "\n",
        "# Calculate donation and update totals\n",
        "donation = 0.01 * bill_amount\n",
        "charity_totals[choice - 1] += donation\n",
        "\n",
        "# Task 2: Record and total each donation\n",
        "print(f\"Donation of ${donation:.2f} recorded for {charities[choice - 1]}.\")\n",
        "\n",
        "# Task 3: Show the totals so far\n",
        "while True:\n",
        "    try:\n",
        "        choice = int(input(\"Choose a charity to show totals (-1 for grand total): \"))\n",
        "        if choice == -1:\n",
        "            break\n",
        "        elif 1 <= choice <= 3:\n",
        "            print(f\"{charities[choice - 1]} Total: ${charity_totals[choice - 1]:.2f}\")\n",
        "        else:\n",
        "            print(\"Invalid choice. Please enter 1, 2, 3, or -1.\")\n",
        "    except ValueError:\n",
        "        print(\"Invalid input. Please enter a number.\")\n",
        "\n",
        "# Display totals in descending order\n",
        "sorted_charities = sorted(zip(charities, charity_totals), key=lambda x: x[1], reverse=True)\n",
        "grand_total = sum(charity_totals)\n",
        "\n",
        "print(\"\\nCharity Totals:\")\n",
        "for charity, total in sorted_charities:\n",
        "    print(f\"{charity}: ${total:.2f}\")\n",
        "\n",
        "print(f\"\\nGRAND TOTAL DONATED TO CHARITY: ${grand_total:.2f}\")\n"
      ],
      "metadata": {
        "colab": {
          "base_uri": "https://localhost:8080/"
        },
        "id": "X8s_Z3IqxYf2",
        "outputId": "a2250117-bf55-4c11-af77-d2c37af0cea5"
      },
      "execution_count": null,
      "outputs": [
        {
          "output_type": "stream",
          "name": "stdout",
          "text": [
            "Welcome to the Charity Donation System!\n",
            "Available Charities:\n",
            "1. Charity 1\n",
            "2. Charity 2\n",
            "3. Charity 3\n",
            "Choose a charity (1, 2, or 3): 3\n",
            "Enter the shopping bill amount: 777\n",
            "Donation of $7.77 recorded for Charity 3.\n",
            "Choose a charity to show totals (-1 for grand total): -1\n",
            "\n",
            "Charity Totals:\n",
            "Charity 3: $7.77\n",
            "Charity 1: $0.00\n",
            "Charity 2: $0.00\n",
            "\n",
            "GRAND TOTAL DONATED TO CHARITY: $7.77\n"
          ]
        }
      ]
    }
  ]
}